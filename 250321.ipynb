{
 "cells": [
  {
   "cell_type": "code",
   "execution_count": 3,
   "id": "a15e0f8d-2323-40bf-9051-3491d7f81950",
   "metadata": {},
   "outputs": [
    {
     "name": "stdin",
     "output_type": "stream",
     "text": [
      "몇 살 입니까? 21\n"
     ]
    },
    {
     "name": "stdout",
     "output_type": "stream",
     "text": [
      "당신은 내년에 22 살입니다.\n"
     ]
    }
   ],
   "source": [
    "age=input(\"몇 살 입니까?\")\n",
    "age=int(age)\n",
    "age=age+1\n",
    "print(\"당신은 내년에\", age, \"살입니다.\")"
   ]
  },
  {
   "cell_type": "code",
   "execution_count": 4,
   "id": "1d36cc66-5c9f-4abb-89b1-4df1b57a6a54",
   "metadata": {},
   "outputs": [
    {
     "name": "stdin",
     "output_type": "stream",
     "text": [
      "몇 살 입니까? 21\n"
     ]
    },
    {
     "name": "stdout",
     "output_type": "stream",
     "text": [
      "당신은 내년에 22살입니다.\n"
     ]
    }
   ],
   "source": [
    "age=input(\"몇 살 입니까?\")\n",
    "age=int(age)\n",
    "age=age+1\n",
    "print(f\"당신은 내년에 {age}살입니다.\")"
   ]
  },
  {
   "cell_type": "code",
   "execution_count": 5,
   "id": "807299ce-23ec-4c05-bcd2-99da5aa51434",
   "metadata": {},
   "outputs": [
    {
     "name": "stdin",
     "output_type": "stream",
     "text": [
      "몇 살 입니까? 21\n"
     ]
    },
    {
     "ename": "TypeError",
     "evalue": "can only concatenate str (not \"int\") to str",
     "output_type": "error",
     "traceback": [
      "\u001b[0;31m---------------------------------------------------------------------------\u001b[0m",
      "\u001b[0;31mTypeError\u001b[0m                                 Traceback (most recent call last)",
      "Cell \u001b[0;32mIn[5], line 3\u001b[0m\n\u001b[1;32m      1\u001b[0m age\u001b[38;5;241m=\u001b[39m\u001b[38;5;28minput\u001b[39m(\u001b[38;5;124m\"\u001b[39m\u001b[38;5;124m몇 살 입니까?\u001b[39m\u001b[38;5;124m\"\u001b[39m)\n\u001b[1;32m      2\u001b[0m \u001b[38;5;66;03m#age=int(age)\u001b[39;00m\n\u001b[0;32m----> 3\u001b[0m age\u001b[38;5;241m=\u001b[39m\u001b[43mage\u001b[49m\u001b[38;5;241;43m+\u001b[39;49m\u001b[38;5;241;43m1\u001b[39;49m\n\u001b[1;32m      4\u001b[0m \u001b[38;5;28mprint\u001b[39m(\u001b[38;5;124m\"\u001b[39m\u001b[38;5;124m당신은 내년에\u001b[39m\u001b[38;5;124m\"\u001b[39m, age, \u001b[38;5;124m\"\u001b[39m\u001b[38;5;124m살입니다.\u001b[39m\u001b[38;5;124m\"\u001b[39m)\n",
      "\u001b[0;31mTypeError\u001b[0m: can only concatenate str (not \"int\") to str"
     ]
    }
   ],
   "source": [
    "age=input(\"몇 살 입니까?\")\n",
    "#age=int(age)\n",
    "age=age+1\n",
    "print(\"당신은 내년에\", age, \"살입니다.\")"
   ]
  },
  {
   "cell_type": "code",
   "execution_count": 6,
   "id": "d73c6d0f-bbad-4a63-9e92-919d7e4e051c",
   "metadata": {},
   "outputs": [
    {
     "name": "stdin",
     "output_type": "stream",
     "text": [
      "몇 살 입니까? 21\n"
     ]
    },
    {
     "name": "stdout",
     "output_type": "stream",
     "text": [
      "당신은 내년에 22 살입니다.\n"
     ]
    }
   ],
   "source": [
    "age=input(\"몇 살 입니까?\")\n",
    "age=int(age)\n",
    "print(\"당신은 내년에\", age+1, \"살입니다.\")"
   ]
  },
  {
   "cell_type": "code",
   "execution_count": 7,
   "id": "e57ff079-596a-40a5-9e6f-6aeda4b8b2ec",
   "metadata": {},
   "outputs": [
    {
     "name": "stdin",
     "output_type": "stream",
     "text": [
      "몇 살 입니까? 21\n"
     ]
    },
    {
     "name": "stdout",
     "output_type": "stream",
     "text": [
      "당신은 내년에 22 살입니다.\n"
     ]
    }
   ],
   "source": [
    "age=int(input(\"몇 살 입니까?\"))\n",
    "age=age+1\n",
    "print(\"당신은 내년에\", age, \"살입니다.\")"
   ]
  },
  {
   "cell_type": "code",
   "execution_count": 8,
   "id": "8efa2562-a983-4406-92ad-765f2347448c",
   "metadata": {},
   "outputs": [
    {
     "name": "stdin",
     "output_type": "stream",
     "text": [
      "몇 살 입니까? 21\n"
     ]
    },
    {
     "name": "stdout",
     "output_type": "stream",
     "text": [
      "당신은 내년에 22 살입니다.\n"
     ]
    }
   ],
   "source": [
    "age=int(input(\"몇 살 입니까?\"))\n",
    "print(\"당신은 내년에\", age+1, \"살입니다.\")"
   ]
  },
  {
   "cell_type": "code",
   "execution_count": 9,
   "id": "ca6d701b-08d3-4110-aa7c-7901581e7ff9",
   "metadata": {},
   "outputs": [
    {
     "name": "stdin",
     "output_type": "stream",
     "text": [
      "몇 살 입니까? 21\n"
     ]
    },
    {
     "name": "stdout",
     "output_type": "stream",
     "text": [
      "당신은 내년에 22.0 살입니다.\n"
     ]
    }
   ],
   "source": [
    "age=float(input(\"몇 살 입니까?\"))\n",
    "print(\"당신은 내년에\", age+1, \"살입니다.\")"
   ]
  },
  {
   "cell_type": "code",
   "execution_count": 10,
   "id": "b55c3a8d-a7b9-4d89-83e6-565d1bd6138e",
   "metadata": {},
   "outputs": [
    {
     "name": "stdin",
     "output_type": "stream",
     "text": [
      "몇 살 입니까? 21\n"
     ]
    },
    {
     "name": "stdout",
     "output_type": "stream",
     "text": [
      "당신은 내년에 22.5 살입니다.\n"
     ]
    }
   ],
   "source": [
    "age=int(input(\"몇 살 입니까?\"))\n",
    "print(\"당신은 내년에\", age+1.5, \"살입니다.\")"
   ]
  },
  {
   "cell_type": "code",
   "execution_count": 11,
   "id": "2e50f740-56f4-4d6c-b248-ee2f9b37c138",
   "metadata": {},
   "outputs": [
    {
     "name": "stdin",
     "output_type": "stream",
     "text": [
      "몇 살 입니까? 21\n"
     ]
    },
    {
     "name": "stdout",
     "output_type": "stream",
     "text": [
      "21 살입니다.\n"
     ]
    }
   ],
   "source": [
    "age=int(input(\"몇 살 입니까?\"))\n",
    "print(age, \"살입니다.\")"
   ]
  },
  {
   "cell_type": "code",
   "execution_count": 12,
   "id": "b30f9f39-39b4-429e-84a2-b4ef10789ff7",
   "metadata": {},
   "outputs": [
    {
     "name": "stdin",
     "output_type": "stream",
     "text": [
      "몇 살 입니까? 21\n"
     ]
    },
    {
     "ename": "TypeError",
     "evalue": "unsupported operand type(s) for +: 'int' and 'str'",
     "output_type": "error",
     "traceback": [
      "\u001b[0;31m---------------------------------------------------------------------------\u001b[0m",
      "\u001b[0;31mTypeError\u001b[0m                                 Traceback (most recent call last)",
      "Cell \u001b[0;32mIn[12], line 2\u001b[0m\n\u001b[1;32m      1\u001b[0m age\u001b[38;5;241m=\u001b[39m\u001b[38;5;28mint\u001b[39m(\u001b[38;5;28minput\u001b[39m(\u001b[38;5;124m\"\u001b[39m\u001b[38;5;124m몇 살 입니까?\u001b[39m\u001b[38;5;124m\"\u001b[39m))\n\u001b[0;32m----> 2\u001b[0m \u001b[38;5;28mprint\u001b[39m(\u001b[43mage\u001b[49m\u001b[38;5;241;43m+\u001b[39;49m\u001b[38;5;124;43m\"\u001b[39;49m\u001b[38;5;124;43m살입니다.\u001b[39;49m\u001b[38;5;124;43m\"\u001b[39;49m)\n",
      "\u001b[0;31mTypeError\u001b[0m: unsupported operand type(s) for +: 'int' and 'str'"
     ]
    }
   ],
   "source": [
    "age=int(input(\"몇 살 입니까?\"))\n",
    "print(age+\"살입니다.\")"
   ]
  },
  {
   "cell_type": "code",
   "execution_count": 13,
   "id": "b5563b00-e7b7-4211-83be-05b4fef118cb",
   "metadata": {},
   "outputs": [
    {
     "name": "stdin",
     "output_type": "stream",
     "text": [
      "몇 살 입니까? 21\n"
     ]
    },
    {
     "name": "stdout",
     "output_type": "stream",
     "text": [
      "21살입니다.\n"
     ]
    }
   ],
   "source": [
    "age=int(input(\"몇 살 입니까?\"))\n",
    "age=str(age)\n",
    "print(age+ \"살입니다.\")"
   ]
  },
  {
   "cell_type": "code",
   "execution_count": 14,
   "id": "1fbf6deb-ce5f-443c-b7eb-bf8001eea666",
   "metadata": {},
   "outputs": [
    {
     "name": "stdin",
     "output_type": "stream",
     "text": [
      "몇 살 입니까? 21\n"
     ]
    },
    {
     "name": "stdout",
     "output_type": "stream",
     "text": [
      "21살입니다.\n"
     ]
    }
   ],
   "source": [
    "age=int(input(\"몇 살 입니까?\"))\n",
    "print(str(age)+ \"살입니다.\")"
   ]
  },
  {
   "cell_type": "code",
   "execution_count": 15,
   "id": "6360489e-25ac-4f6b-a6fd-8afa5508553b",
   "metadata": {},
   "outputs": [
    {
     "name": "stdin",
     "output_type": "stream",
     "text": [
      "점수를 입력하세요. 98\n"
     ]
    },
    {
     "name": "stdout",
     "output_type": "stream",
     "text": [
      "정말 잘했어요!\n"
     ]
    }
   ],
   "source": [
    "score=int(input(\"점수를 입력하세요.\"))\n",
    "if score >= 90:\n",
    "    print(\"정말 잘했어요!\")\n",
    "elif score >= 60:\n",
    "    print(\"좋아요! 합격입니다!\")\n",
    "else:\n",
    "    print(\"다음에 더 잘해봐요!\")"
   ]
  },
  {
   "cell_type": "code",
   "execution_count": 18,
   "id": "8080f304-b0d0-48c1-a886-63ca718e58da",
   "metadata": {
    "scrolled": true
   },
   "outputs": [
    {
     "name": "stdin",
     "output_type": "stream",
     "text": [
      "숫자를 입력하세요. 0\n"
     ]
    },
    {
     "name": "stdout",
     "output_type": "stream",
     "text": [
      "0입니다!\n"
     ]
    }
   ],
   "source": [
    "#입력한 숫자의 양수/음수 판단\n",
    "num=int(input(\"숫자를 입력하세요.\"))\n",
    "if num > 0:\n",
    "    print(\"양수입니다!\")\n",
    "elif num < 0:\n",
    "    print(\"음수입니다!\")\n",
    "else:\n",
    "    print(\"0입니다!\")"
   ]
  },
  {
   "cell_type": "code",
   "execution_count": 20,
   "id": "6e092450-a898-446a-a430-c36ae1bd541e",
   "metadata": {},
   "outputs": [
    {
     "name": "stdin",
     "output_type": "stream",
     "text": [
      "숫자를 입력하세요. 2\n"
     ]
    },
    {
     "name": "stdout",
     "output_type": "stream",
     "text": [
      "짝수입니다!\n"
     ]
    }
   ],
   "source": [
    "num=int(input(\"숫자를 입력하세요.\"))\n",
    "if num%2 > 0:\n",
    "    print(\"홀수입니다!\")\n",
    "else:\n",
    "    print(\"짝수입니다!\")"
   ]
  },
  {
   "cell_type": "code",
   "execution_count": null,
   "id": "34e88013-28e7-4fe2-8607-a899abe7c748",
   "metadata": {},
   "outputs": [],
   "source": [
    "num=int(input(\"숫자를 입력하세요.\"))\n",
    "if num%2 == 0:\n",
    "    print(\"짝수입니다!\")\n",
    "else:\n",
    "    print(\"홀수입니다!\")"
   ]
  },
  {
   "cell_type": "code",
   "execution_count": null,
   "id": "c09afff4-826e-45ec-89f6-16739b8b535b",
   "metadata": {},
   "outputs": [],
   "source": [
    "num=int(input(\"숫자를 입력하세요.\"))\n",
    "if num%2 != 0:\n",
    "    print(\"홀수입니다!\")\n",
    "else:\n",
    "    print(\"짝수입니다!\")"
   ]
  },
  {
   "cell_type": "code",
   "execution_count": 30,
   "id": "aa53a718-c6dd-43ee-a37a-0bbcd981168a",
   "metadata": {},
   "outputs": [
    {
     "name": "stdout",
     "output_type": "stream",
     "text": [
      "사과 3개 사오고 만약에 수박이 있으면 1개 사와.\n"
     ]
    },
    {
     "name": "stdin",
     "output_type": "stream",
     "text": [
      "수박이 있나요? 네\n"
     ]
    },
    {
     "name": "stdout",
     "output_type": "stream",
     "text": [
      "사과를 1개 샀어.\n"
     ]
    }
   ],
   "source": [
    "#개발자 사고 따라잡기\n",
    "apple=0\n",
    "print(\"사과 3개 사오고 만약에 수박이 있으면 1개 사와.\")\n",
    "watermelon=input(\"수박이 있나요?\")\n",
    "if watermelon == \"네\":\n",
    "    apple=1\n",
    "    print(f\"사과를 {apple}개 샀어.\")\n",
    "else:\n",
    "    apple=3\n",
    "    print(f\"사과를 {apple}개 샀어.\")"
   ]
  },
  {
   "cell_type": "code",
   "execution_count": 52,
   "id": "5704ccce-db44-4393-b997-df26026c6fd4",
   "metadata": {},
   "outputs": [
    {
     "name": "stdin",
     "output_type": "stream",
     "text": [
      " 5 2\n"
     ]
    }
   ],
   "source": [
    "A,B=map(int, input().split())\n",
    "if A==1 or A==2 or A==3 and  B==1 or B==2 or B==3:\n",
    "    if A==B:\n",
    "        print(\"무승부\")\n",
    "    elif A==1 and B == 3 or A==2 and B==1 or A==3 and B==2:\n",
    "        print(\"A승B패\")\n",
    "    elif A==1 and B==2 or A==2 and B==3 or A==3 and B==1:\n",
    "        print(\"B승A패\")\n",
    "else:\n",
    "    print(\"잘못된 입력\")"
   ]
  },
  {
   "cell_type": "code",
   "execution_count": 53,
   "id": "d272bc89-70f8-4df6-b467-19ec4e3250cc",
   "metadata": {},
   "outputs": [
    {
     "name": "stdin",
     "output_type": "stream",
     "text": [
      " 5 3\n"
     ]
    },
    {
     "name": "stdout",
     "output_type": "stream",
     "text": [
      "잘못된입력\n"
     ]
    }
   ],
   "source": [
    "A,B=map(int, input().split())\n",
    "if (A==1 or A==2 or A==3) and  (B==1 or B==2 or B==3):\n",
    "    if A==B:\n",
    "        print(\"무승부\")\n",
    "    elif (A==1 and B == 3) or (A==2 and B==1) or (A==3 and B==2):\n",
    "        print(\"A승B패\")\n",
    "    elif (A==1 and B==2) or (A==2 and B==3) or (A==3 and B==1):\n",
    "        print(\"B승A패\")\n",
    "else:\n",
    "    print(\"잘못된입력\")"
   ]
  },
  {
   "cell_type": "code",
   "execution_count": 54,
   "id": "8614883d-bb52-4418-b3f8-cb3312a25eb6",
   "metadata": {},
   "outputs": [
    {
     "name": "stdin",
     "output_type": "stream",
     "text": [
      " 5 3\n"
     ]
    },
    {
     "name": "stdout",
     "output_type": "stream",
     "text": [
      "잘못된입력\n"
     ]
    }
   ],
   "source": [
    "#교수님버전\n",
    "a, b =map(int, input().split())\n",
    "if a > 3 or b > 3:\n",
    "    print(\"잘못된입력\")\n",
    "elif a==b:\n",
    "    print(\"무승부\")\n",
    "elif (A==1 and B == 3) or (A==2 and B==1) or (A==3 and B==2):\n",
    "    print(\"A승B패\")\n",
    "else:\n",
    "    print(\"B승A패\")"
   ]
  }
 ],
 "metadata": {
  "kernelspec": {
   "display_name": "Python 3 (ipykernel)",
   "language": "python",
   "name": "python3"
  },
  "language_info": {
   "codemirror_mode": {
    "name": "ipython",
    "version": 3
   },
   "file_extension": ".py",
   "mimetype": "text/x-python",
   "name": "python",
   "nbconvert_exporter": "python",
   "pygments_lexer": "ipython3",
   "version": "3.12.6"
  }
 },
 "nbformat": 4,
 "nbformat_minor": 5
}
