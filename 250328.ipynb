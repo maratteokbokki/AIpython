{
  "nbformat": 4,
  "nbformat_minor": 0,
  "metadata": {
    "colab": {
      "provenance": [],
      "authorship_tag": "ABX9TyNH5n3H5FfnlpdFpW8Mkbjz",
      "include_colab_link": true
    },
    "kernelspec": {
      "name": "python3",
      "display_name": "Python 3"
    },
    "language_info": {
      "name": "python"
    }
  },
  "cells": [
    {
      "cell_type": "markdown",
      "metadata": {
        "id": "view-in-github",
        "colab_type": "text"
      },
      "source": [
        "<a href=\"https://colab.research.google.com/github/maratteokbokki/AIpython/blob/main/250328.ipynb\" target=\"_parent\"><img src=\"https://colab.research.google.com/assets/colab-badge.svg\" alt=\"Open In Colab\"/></a>"
      ]
    },
    {
      "cell_type": "code",
      "execution_count": 6,
      "metadata": {
        "colab": {
          "base_uri": "https://localhost:8080/"
        },
        "id": "o65YIsFKSUr1",
        "outputId": "085d0ab0-c6cb-4b35-9949-f16c526bf061"
      },
      "outputs": [
        {
          "output_type": "stream",
          "name": "stdout",
          "text": [
            "정수 두 개를 입력하세요2 5\n",
            "2은(는) 5보다 큽니다.\n"
          ]
        }
      ],
      "source": [
        "num1, num2=map(int, input(\"정수 두 개를 입력하세요\").split())\n",
        "if num1>num2:\n",
        "  print(f\"{num1}은(는) {num2}보다 큽니다.\")\n",
        "elif num1<num2:\n",
        "  print(f\"{num1}은(는) {num2}보다 큽니다.\")\n",
        "elif num1==num2:\n",
        "  print(f\"{num1}은(는) {num2}와 같습니다.\")\n",
        "else:\n",
        "  print(\"다시 입력하세요.\")"
      ]
    },
    {
      "cell_type": "code",
      "source": [
        "num1, num2, num3=map(int, input(\"정수 세 개를 입력하세요\").split())\n",
        "max=num1\n",
        "try:\n",
        "  if max<num2:\n",
        "    max=num2\n",
        "  if max<num3:\n",
        "    max=num3\n",
        "  print(f\"가장 큰 수는 {max}입니다.\")\n",
        "except ValueError:\n",
        "  print(\"다시 입력하세요.\")"
      ],
      "metadata": {
        "colab": {
          "base_uri": "https://localhost:8080/"
        },
        "id": "jVC2m2KVYB19",
        "outputId": "f66f8b42-77b3-4b9f-b922-2cee262d6654"
      },
      "execution_count": 11,
      "outputs": [
        {
          "output_type": "stream",
          "name": "stdout",
          "text": [
            "정수 세 개를 입력하세요6 8 10\n",
            "가장 큰 수는 10입니다.\n"
          ]
        }
      ]
    },
    {
      "cell_type": "markdown",
      "source": [
        "큰 문제를 작은 문제로 디바이드 해서 생각하기\n",
        "except value error: 예외처리(프로그램 안정적으로, 적절한 대처)\n",
        "가독성이 높아짐 !!\n",
        "-> 실행 중에 발생할 수 있는 오류를 처리할 수 있는 메커니즘\n",
        "try: 예외 발생 가능 구간 -> 예외 생기면 except 사용\n",
        "value error: 예외 유형을 지정한 것(변수 에러가 일어나면 except 해라~!)\n",
        "elif를 쓰면 if랑 같은 덩어리가 되므로 오류가 날 수 있음."
      ],
      "metadata": {
        "id": "2RayZhNwToDF"
      }
    },
    {
      "cell_type": "code",
      "source": [
        "#틀린 예시 - elif는 if를 만족하면 실행이 안 됨\n",
        "num1, num2, num3=map(int, input(\"정수 세 개를 입력하세요\").split())\n",
        "max=num1\n",
        "try:\n",
        "  if max<num2:\n",
        "    max=num2\n",
        "  elif max<num3:\n",
        "    max=num3\n",
        "  print(f\"가장 큰 수는 {max}입니다.\")\n",
        "except ValueError:\n",
        "  print(\"다시 입력하세요.\")"
      ],
      "metadata": {
        "id": "d22IAXXWbxO-"
      },
      "execution_count": null,
      "outputs": []
    },
    {
      "cell_type": "code",
      "source": [
        "score = int(input(\"시험 점수 (0~100)를 입력하세요 \"))\n",
        "try:\n",
        "  if 0 <= score <= 100:\n",
        "    if score >= 90:\n",
        "      grade = 'A'\n",
        "    elif score >= 80:\n",
        "      grade = 'B'\n",
        "    elif score >= 70:\n",
        "      grade = 'C'\n",
        "    elif score >= 60:\n",
        "      grade = 'D'\n",
        "    else:\n",
        "      grade = 'F'\n",
        "    print(f\"{grade}입니다.\")\n",
        "  else:\n",
        "    print(\"다시 입력하세요!\")\n",
        "except ValueError:\n",
        "  print(\"다시 입력하세요!\")"
      ],
      "metadata": {
        "colab": {
          "base_uri": "https://localhost:8080/"
        },
        "id": "RKSk6dYccDvV",
        "outputId": "9916a40f-46de-492e-ce42-845bbe015c3d"
      },
      "execution_count": 21,
      "outputs": [
        {
          "output_type": "stream",
          "name": "stdout",
          "text": [
            "시험 점수 (0~100)를 입력하세요63\n",
            "D입니다.\n"
          ]
        }
      ]
    },
    {
      "cell_type": "markdown",
      "source": [
        "외부 if문 / 내부 if문\n",
        "외부는 if, else 구조인데 내부에 또 다른 조건문이 들어있는 구조 = 중첩구조\n",
        "들여쓰기에 따라 출력이 될 수도 안 될 수도 있다 !!주의!!"
      ],
      "metadata": {
        "id": "Ct8LOqTUeipm"
      }
    },
    {
      "cell_type": "code",
      "source": [
        "year = int(input(\"연도를 입력하세요\"))\n",
        "try:\n",
        "  if (year%4==0 and year%100!=0) or (year%400==0):\n",
        "    print(\"윤년입니다.\")\n",
        "  else:\n",
        "    print(\"윤년이 아닙니다.\")\n",
        "except ValueError:\n",
        "  print(\"다시 입력하세요!\")"
      ],
      "metadata": {
        "colab": {
          "base_uri": "https://localhost:8080/"
        },
        "id": "BRuiDzgqfh3O",
        "outputId": "65d55b18-b62d-413f-f841-29d28c5f0deb"
      },
      "execution_count": 27,
      "outputs": [
        {
          "output_type": "stream",
          "name": "stdout",
          "text": [
            "연도를 입력하세요2024\n",
            "윤년입니다.\n"
          ]
        }
      ]
    },
    {
      "cell_type": "markdown",
      "source": [
        "반복문: 일정한 반복이 있는, 컴퓨터가 대신해줄 수 있는 걸로 만들기 / 주요 변수 i j k\n",
        "for: 횟수 정해짐 / 0부터 시작\n",
        "while: 횟수 안 정해짐"
      ],
      "metadata": {
        "id": "umK9ANOckRcm"
      }
    },
    {
      "cell_type": "code",
      "source": [
        "for i in range(1, 6):\n",
        "  print(\"반복!\", i)"
      ],
      "metadata": {
        "colab": {
          "base_uri": "https://localhost:8080/"
        },
        "id": "u8FiwG-FlTU2",
        "outputId": "130f2648-3618-4cae-b693-128b312a2852"
      },
      "execution_count": 32,
      "outputs": [
        {
          "output_type": "stream",
          "name": "stdout",
          "text": [
            "반복! 1\n",
            "반복! 2\n",
            "반복! 3\n",
            "반복! 4\n",
            "반복! 5\n"
          ]
        }
      ]
    },
    {
      "cell_type": "code",
      "source": [
        "for i in range(5):\n",
        "  print(\"반복!\", i+1)"
      ],
      "metadata": {
        "colab": {
          "base_uri": "https://localhost:8080/"
        },
        "id": "PfmysicvmTbO",
        "outputId": "93bfa6c3-d8df-4475-9a63-c0b468782e4c"
      },
      "execution_count": 33,
      "outputs": [
        {
          "output_type": "stream",
          "name": "stdout",
          "text": [
            "반복! 1\n",
            "반복! 2\n",
            "반복! 3\n",
            "반복! 4\n",
            "반복! 5\n"
          ]
        }
      ]
    },
    {
      "cell_type": "code",
      "source": [
        "for i in range(1, 10, 2):\n",
        "  print(\"반복!\", i)"
      ],
      "metadata": {
        "colab": {
          "base_uri": "https://localhost:8080/"
        },
        "id": "FV3HRv9pmtWV",
        "outputId": "3d409a5b-5005-430c-9330-93bbc8be0079"
      },
      "execution_count": 36,
      "outputs": [
        {
          "output_type": "stream",
          "name": "stdout",
          "text": [
            "반복! 1\n",
            "반복! 3\n",
            "반복! 5\n",
            "반복! 7\n",
            "반복! 9\n"
          ]
        }
      ]
    },
    {
      "cell_type": "code",
      "source": [
        "for i in [1,2,3,4,5]:\n",
        "  print(\"반복!\", i)"
      ],
      "metadata": {
        "colab": {
          "base_uri": "https://localhost:8080/"
        },
        "id": "wbFw5uGKm4P2",
        "outputId": "adf647ba-46cd-4576-9d7b-db9081f9adca"
      },
      "execution_count": 38,
      "outputs": [
        {
          "output_type": "stream",
          "name": "stdout",
          "text": [
            "반복! 1\n",
            "반복! 2\n",
            "반복! 3\n",
            "반복! 4\n",
            "반복! 5\n"
          ]
        }
      ]
    },
    {
      "cell_type": "code",
      "source": [
        "for i in ['A',2,'C',4,5]:\n",
        "  print(\"반복!\", i)"
      ],
      "metadata": {
        "colab": {
          "base_uri": "https://localhost:8080/"
        },
        "id": "aMoPxoVLnECu",
        "outputId": "5ec7eabe-a586-46ed-e053-3e4404d04b28"
      },
      "execution_count": 39,
      "outputs": [
        {
          "output_type": "stream",
          "name": "stdout",
          "text": [
            "반복! A\n",
            "반복! 2\n",
            "반복! C\n",
            "반복! 4\n",
            "반복! 5\n"
          ]
        }
      ]
    },
    {
      "cell_type": "code",
      "source": [
        "message = \"hello\"\n",
        "for chat in message:\n",
        "  print(chat)"
      ],
      "metadata": {
        "colab": {
          "base_uri": "https://localhost:8080/"
        },
        "id": "j_xbphPNnaaW",
        "outputId": "b67222e5-b99d-4d9b-c09a-bf3061715b23"
      },
      "execution_count": 40,
      "outputs": [
        {
          "output_type": "stream",
          "name": "stdout",
          "text": [
            "h\n",
            "e\n",
            "l\n",
            "l\n",
            "o\n"
          ]
        }
      ]
    },
    {
      "cell_type": "code",
      "source": [
        "count = 0\n",
        "while count < 3:\n",
        "  print(\"반복중:\", count)\n",
        "  count+=1"
      ],
      "metadata": {
        "colab": {
          "base_uri": "https://localhost:8080/"
        },
        "id": "GgDef1P7nwYm",
        "outputId": "65f31dac-3b60-4976-9803-4e5bf5d0a0d7"
      },
      "execution_count": 41,
      "outputs": [
        {
          "output_type": "stream",
          "name": "stdout",
          "text": [
            "반복중: 0\n",
            "반복중: 1\n",
            "반복중: 2\n"
          ]
        }
      ]
    },
    {
      "cell_type": "markdown",
      "source": [
        "count+=1은 count=count+1이라는 의미(축약연산자, 축약할당연산자 +=) start, stop, step이 있어야 함"
      ],
      "metadata": {
        "id": "w6kNTDg-n8mt"
      }
    },
    {
      "cell_type": "code",
      "source": [
        "N=input()\n",
        "try:\n",
        "  N=int(N)\n",
        "  sum=0\n",
        "  if N>0:\n",
        "    for i in range(1, N+1):\n",
        "      sum+=i\n",
        "    print(sum)\n",
        "  else:\n",
        "    print(\"다시 입력하세요.\")\n",
        "except ValueError:\n",
        "  print(\"다시 입력하세요.\")"
      ],
      "metadata": {
        "colab": {
          "base_uri": "https://localhost:8080/"
        },
        "id": "7iv0kFWio9k-",
        "outputId": "d246a3ae-8cae-463e-a3e2-c1fa43221829"
      },
      "execution_count": 54,
      "outputs": [
        {
          "output_type": "stream",
          "name": "stdout",
          "text": [
            "-1\n",
            "다시 입력하세요.\n"
          ]
        }
      ]
    },
    {
      "cell_type": "code",
      "source": [
        "count = 0 #스타트\n",
        "print(\"0부터 9까지 출력:\")\n",
        "while count < 10: #스톱\n",
        "  print(count)\n",
        "  count += 1 #스텝\n",
        "print(\"while 루프 종료\")"
      ],
      "metadata": {
        "colab": {
          "base_uri": "https://localhost:8080/"
        },
        "id": "43RBUpFjsF_u",
        "outputId": "94242d28-a5c4-4061-d79e-d93c09f20d42"
      },
      "execution_count": 57,
      "outputs": [
        {
          "output_type": "stream",
          "name": "stdout",
          "text": [
            "0부터 9까지 출력:\n",
            "0\n",
            "1\n",
            "2\n",
            "3\n",
            "4\n",
            "5\n",
            "6\n",
            "7\n",
            "8\n",
            "9\n",
            "while 루프 종료\n"
          ]
        }
      ]
    },
    {
      "cell_type": "code",
      "source": [
        "for i in range(10):\n",
        "  print(i)"
      ],
      "metadata": {
        "colab": {
          "base_uri": "https://localhost:8080/"
        },
        "id": "jIrG9sxIscEu",
        "outputId": "c519b669-9a20-406a-941e-ef6e7370827b"
      },
      "execution_count": 56,
      "outputs": [
        {
          "output_type": "stream",
          "name": "stdout",
          "text": [
            "0\n",
            "1\n",
            "2\n",
            "3\n",
            "4\n",
            "5\n",
            "6\n",
            "7\n",
            "8\n",
            "9\n"
          ]
        }
      ]
    },
    {
      "cell_type": "code",
      "source": [
        "print(\"0부터 9까지 출력:\")\n",
        "for i in range(10): #스타트, 스텝 생략\n",
        "  print(i)\n",
        "print(\"for 루프 종료\")"
      ],
      "metadata": {
        "colab": {
          "base_uri": "https://localhost:8080/"
        },
        "id": "Nct1SX54syy2",
        "outputId": "f0822f4c-0cbc-41ba-b6c5-a6635b59f0d7"
      },
      "execution_count": 58,
      "outputs": [
        {
          "output_type": "stream",
          "name": "stdout",
          "text": [
            "0부터 9까지 출력:\n",
            "0\n",
            "1\n",
            "2\n",
            "3\n",
            "4\n",
            "5\n",
            "6\n",
            "7\n",
            "8\n",
            "9\n",
            "for 루프 종료\n"
          ]
        }
      ]
    }
  ]
}