{
 "cells": [
  {
   "cell_type": "code",
   "execution_count": 16,
   "id": "c7509a3c-e216-44cf-8721-d0d15eaa221e",
   "metadata": {},
   "outputs": [
    {
     "name": "stdin",
     "output_type": "stream",
     "text": [
      "온도 종류:  섭씨\n",
      "섭씨 온도:  30\n"
     ]
    },
    {
     "name": "stdout",
     "output_type": "stream",
     "text": [
      "화씨 온도: 86.00\n"
     ]
    }
   ],
   "source": [
    "kind = input('온도 종류: ')\n",
    "temp = int(input(kind+' 온도: '))\n",
    "ft=0\n",
    "ct=0\n",
    "if kind == '섭씨':\n",
    "    ft=temp*9/5+32\n",
    "    print(\"화씨 온도: %.2f\" % ft)\n",
    "elif kind == '화씨':\n",
    "    ct=(temp-32)*5/9\n",
    "    print(\"섭씨 온도: %.2f\" % ct)\n",
    "else:\n",
    "    print(\"다시 입력하세요.\")\n",
    "           "
   ]
  },
  {
   "cell_type": "code",
   "execution_count": 20,
   "id": "995be11b-a345-484e-899c-d95454a98057",
   "metadata": {},
   "outputs": [
    {
     "name": "stdout",
     "output_type": "stream",
     "text": [
      "제가 정한 1~100 사이의 숫자를 맞히세요.\n"
     ]
    },
    {
     "name": "stdin",
     "output_type": "stream",
     "text": [
      "숫자: 91\n"
     ]
    },
    {
     "name": "stdout",
     "output_type": "stream",
     "text": [
      "다운\n"
     ]
    },
    {
     "name": "stdin",
     "output_type": "stream",
     "text": [
      "숫자: 61\n"
     ]
    },
    {
     "name": "stdout",
     "output_type": "stream",
     "text": [
      "업\n"
     ]
    },
    {
     "name": "stdin",
     "output_type": "stream",
     "text": [
      "숫자: 71\n"
     ]
    },
    {
     "name": "stdout",
     "output_type": "stream",
     "text": [
      "업\n"
     ]
    },
    {
     "name": "stdin",
     "output_type": "stream",
     "text": [
      "숫자: 81\n"
     ]
    },
    {
     "name": "stdout",
     "output_type": "stream",
     "text": [
      "다운\n"
     ]
    },
    {
     "name": "stdin",
     "output_type": "stream",
     "text": [
      "숫자: 77\n"
     ]
    },
    {
     "name": "stdout",
     "output_type": "stream",
     "text": [
      "다운\n"
     ]
    },
    {
     "name": "stdin",
     "output_type": "stream",
     "text": [
      "숫자: 72\n"
     ]
    },
    {
     "name": "stdout",
     "output_type": "stream",
     "text": [
      "업\n"
     ]
    },
    {
     "name": "stdin",
     "output_type": "stream",
     "text": [
      "숫자: 75\n"
     ]
    },
    {
     "name": "stdout",
     "output_type": "stream",
     "text": [
      "다운\n"
     ]
    },
    {
     "name": "stdin",
     "output_type": "stream",
     "text": [
      "숫자: 74\n"
     ]
    },
    {
     "name": "stdout",
     "output_type": "stream",
     "text": [
      "정답입니다. 정답을 8회만에 맞혔습니다.\n"
     ]
    }
   ],
   "source": [
    "import random\n",
    "print(\"제가 정한 1~100 사이의 숫자를 맞히세요.\")\n",
    "answer = random.randint(1, 100)\n",
    "time = 0\n",
    "while True:\n",
    "    user = int(input(\"숫자:\"))\n",
    "    time+=1\n",
    "    if user == answer:\n",
    "        break\n",
    "    elif user < answer:\n",
    "        print(\"업\")\n",
    "    else:\n",
    "        print(\"다운\")\n",
    "print(f\"정답입니다. 정답을 {time}회만에 맞혔습니다.\")"
   ]
  },
  {
   "cell_type": "code",
   "execution_count": 27,
   "id": "f18275fa-a549-4035-a33e-efad269aaa89",
   "metadata": {},
   "outputs": [
    {
     "name": "stdout",
     "output_type": "stream",
     "text": [
      "[33, 33, 35, 16, 42, 17]\n"
     ]
    }
   ],
   "source": [
    "import random\n",
    "List = []\n",
    "for i in range(1, 7):\n",
    "    num=random.randint(1,45)\n",
    "    List.append(num)\n",
    "print(List)"
   ]
  },
  {
   "cell_type": "code",
   "execution_count": 29,
   "id": "b2aaa51a-6dc2-4975-beb4-6e173558c537",
   "metadata": {},
   "outputs": [
    {
     "name": "stdout",
     "output_type": "stream",
     "text": [
      "86.4\n"
     ]
    }
   ],
   "source": [
    "성적 = [85, 92, 78, 90, 87]\n",
    "총합=0\n",
    "평균=0.0\n",
    "점수=0\n",
    "항목수=0\n",
    "for 점수 in 성적:\n",
    "    총합+=점수\n",
    "    항목수+=1\n",
    "평균=총합/항목수\n",
    "print(평균)"
   ]
  },
  {
   "cell_type": "code",
   "execution_count": 30,
   "id": "a88a8807-2709-4048-8183-e8c5704bb646",
   "metadata": {},
   "outputs": [
    {
     "name": "stdout",
     "output_type": "stream",
     "text": [
      "['철수', '영희', '지영']\n"
     ]
    }
   ],
   "source": [
    "학생들 = [(\"철수\", 85), (\"영희\", 92), (\"민수\", 65), (\"지영\", 78)]\n",
    "합격자 = []\n",
    "\n",
    "for 학생, 점수 in 학생들:\n",
    "    if 점수 >= 70:\n",
    "        합격자.append(학생)\n",
    "\n",
    "print(합격자)"
   ]
  },
  {
   "cell_type": "code",
   "execution_count": 33,
   "id": "9e998843-4684-4933-b891-66b2552e54c3",
   "metadata": {},
   "outputs": [
    {
     "name": "stdout",
     "output_type": "stream",
     "text": [
      "[1, 2, 3, 4, 5]\n"
     ]
    }
   ],
   "source": [
    "숫자들 = [1, 2, 2, 3, 4, 4, 5, 5, 5]\n",
    "중복제거 = list(set(숫자들))\n",
    "print(중복제거)"
   ]
  },
  {
   "cell_type": "code",
   "execution_count": null,
   "id": "ccfe09e9-6e69-41dd-9e33-3bc5b41d3c87",
   "metadata": {},
   "outputs": [],
   "source": []
  }
 ],
 "metadata": {
  "kernelspec": {
   "display_name": "Python 3 (ipykernel)",
   "language": "python",
   "name": "python3"
  },
  "language_info": {
   "codemirror_mode": {
    "name": "ipython",
    "version": 3
   },
   "file_extension": ".py",
   "mimetype": "text/x-python",
   "name": "python",
   "nbconvert_exporter": "python",
   "pygments_lexer": "ipython3",
   "version": "3.12.6"
  }
 },
 "nbformat": 4,
 "nbformat_minor": 5
}
