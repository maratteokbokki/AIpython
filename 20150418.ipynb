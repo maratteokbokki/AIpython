{
 "cells": [
  {
   "cell_type": "code",
   "execution_count": 2,
   "id": "373eec53-a87b-45ad-b98c-116b92d9493f",
   "metadata": {},
   "outputs": [
    {
     "name": "stdout",
     "output_type": "stream",
     "text": [
      "학생 정보 딕셔너리: {'name': '김민수', 'major': '컴퓨터공학', 'age': 20}\n",
      "이름: 김민수\n",
      "전공: 컴퓨터공학\n",
      "나이: 20\n"
     ]
    }
   ],
   "source": [
    "student = {\n",
    "    'name' : '김민수',\n",
    "    'major' : '컴퓨터공학',\n",
    "    'age' : 20\n",
    "}\n",
    "\n",
    "print(f\"학생 정보 딕셔너리: {student}\")\n",
    "\n",
    "name = student['name']\n",
    "print(f\"이름: {name}\")\n",
    "major = student['major']\n",
    "print(f\"전공: {major}\")\n",
    "age = student['age']\n",
    "print(f\"나이: {age}\")"
   ]
  },
  {
   "cell_type": "code",
   "execution_count": 5,
   "id": "a2f00600-169d-4351-a409-d1de32d026a9",
   "metadata": {},
   "outputs": [
    {
     "name": "stdout",
     "output_type": "stream",
     "text": [
      "원래 학생 정보 딕셔너리: {'name': '김민수', 'age': 20, 'major': '컴퓨터공학'}\n",
      "요소 추가 후 딕셔너리: {'name': '김민수', 'age': 20, 'major': '컴퓨터공학', 'grade': 4.0}\n",
      "요소 삭제 후 딕셔너리: {'name': '김민수', 'age': 20, 'grade': 4.0}\n"
     ]
    }
   ],
   "source": [
    "student = {\n",
    "'name': '김민수',\n",
    "'age': 20,\n",
    "'major': '컴퓨터공학'\n",
    "}\n",
    "print(f\"원래 학생 정보 딕셔너리: {student}\")\n",
    "student['grade'] = 4.0\n",
    "print(f\"요소 추가 후 딕셔너리: {student}\")\n",
    "del student['major']\n",
    "print(f\"요소 삭제 후 딕셔너리: {student}\")"
   ]
  },
  {
   "cell_type": "code",
   "execution_count": 9,
   "id": "ffdb81c9-f38c-4f3c-b4eb-0d024bbe06f1",
   "metadata": {},
   "outputs": [
    {
     "name": "stdout",
     "output_type": "stream",
     "text": [
      "과일 가격 정보:\n",
      "사과: 1500원\n",
      "바나나: 800원\n",
      "딸기: 3000원\n",
      "오렌지: 1200원\n",
      "\n",
      "과일 목록:\n",
      "사과\n",
      "바나나\n",
      "딸기\n",
      "오렌지\n",
      "\n",
      "가격 목록:\n",
      "1500원\n",
      "800원\n",
      "3000원\n",
      "1200원\n"
     ]
    }
   ],
   "source": [
    "fruit_prices = {\n",
    "'사과': 1500,\n",
    "'바나나': 800,\n",
    "'딸기': 3000,\n",
    "'오렌지': 1200\n",
    "}\n",
    "print(\"과일 가격 정보:\")\n",
    "for fruit, price in fruit_prices.items():\n",
    "    print(f\"{fruit}: {price}원\")\n",
    "print(\"\\n과일 목록:\")\n",
    "for fruit in fruit_prices.keys():\n",
    "    print(fruit)\n",
    "print(\"\\n가격 목록:\")\n",
    "for price in fruit_prices.values():\n",
    "    print(f\"{price}원\")"
   ]
  },
  {
   "cell_type": "code",
   "execution_count": 8,
   "id": "3c14aab1-1d33-44e3-9f4d-cedba640acb1",
   "metadata": {},
   "outputs": [
    {
     "name": "stdout",
     "output_type": "stream",
     "text": [
      "원래 과일 가격 딕셔너리: {'사과': 1500, '바나나': 800, '딸기': 3000, '오렌지': 1200}\n",
      "가격 변경 후 과일 가격 딕셔너리: {'사과': 1800, '바나나': 800, '딸기': 3000, '오렌지': 1200}\n"
     ]
    }
   ],
   "source": [
    "fruit_prices = {\n",
    "'사과': 1500,\n",
    "'바나나': 800,\n",
    "'딸기': 3000,\n",
    "'오렌지': 1200\n",
    "}\n",
    "print(f\"원래 과일 가격 딕셔너리: {fruit_prices}\")\n",
    "fruit_prices['사과'] = 1800\n",
    "print(f\"가격 변경 후 과일 가격 딕셔너리: {fruit_prices}\")"
   ]
  },
  {
   "cell_type": "code",
   "execution_count": 10,
   "id": "96425b48-94d9-4805-9e7a-b7c70eea4d59",
   "metadata": {},
   "outputs": [
    {
     "name": "stdout",
     "output_type": "stream",
     "text": [
      "첫 번째 딕셔너리: {'a': 1, 'b': 2, 'c': 3}\n",
      "두 번째 딕셔너리: {'b': 4, 'd': 5}\n",
      "두 딕셔너리 합치기 (update() 결과): {'a': 1, 'b': 4, 'c': 3, 'd': 5}\n"
     ]
    }
   ],
   "source": [
    "dict1 = {'a': 1, 'b': 2, 'c': 3}\n",
    "dict2 = {'b': 4, 'd': 5}\n",
    "print(f\"첫 번째 딕셔너리: {dict1}\")\n",
    "print(f\"두 번째 딕셔너리: {dict2}\")\n",
    "dict1.update(dict2)\n",
    "print(f\"두 딕셔너리 합치기 (update() 결과): {dict1}\")"
   ]
  },
  {
   "cell_type": "code",
   "execution_count": null,
   "id": "e5b51f44-8394-49c4-85a7-141393dc16cf",
   "metadata": {},
   "outputs": [],
   "source": []
  }
 ],
 "metadata": {
  "kernelspec": {
   "display_name": "Python 3 (ipykernel)",
   "language": "python",
   "name": "python3"
  },
  "language_info": {
   "codemirror_mode": {
    "name": "ipython",
    "version": 3
   },
   "file_extension": ".py",
   "mimetype": "text/x-python",
   "name": "python",
   "nbconvert_exporter": "python",
   "pygments_lexer": "ipython3",
   "version": "3.12.6"
  }
 },
 "nbformat": 4,
 "nbformat_minor": 5
}
