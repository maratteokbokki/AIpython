{
 "cells": [
  {
   "cell_type": "code",
   "execution_count": null,
   "id": "d4dbbc89-ae7d-4184-beb9-53ba0e668737",
   "metadata": {},
   "outputs": [],
   "source": [
    "#주민번호: 050715-3456712"
   ]
  },
  {
   "cell_type": "code",
   "execution_count": 36,
   "id": "c47aa0a4-7600-478a-9f46-df97b460e2bd",
   "metadata": {},
   "outputs": [
    {
     "name": "stdin",
     "output_type": "stream",
     "text": [
      " 050504-1234567\n"
     ]
    },
    {
     "name": "stdout",
     "output_type": "stream",
     "text": [
      "남자\n"
     ]
    }
   ],
   "source": [
    "id = input()\n",
    "if id[7] == '1' or id[7] == '3':\n",
    "    print(\"남자\")\n",
    "else:\n",
    "    print(\"여자\")"
   ]
  },
  {
   "cell_type": "code",
   "execution_count": 17,
   "id": "0a7b2a42-074f-4af7-848b-049a87beb37e",
   "metadata": {},
   "outputs": [
    {
     "name": "stdin",
     "output_type": "stream",
     "text": [
      "문자열:  34535431\n"
     ]
    },
    {
     "name": "stdout",
     "output_type": "stream",
     "text": [
      "회문아님\n"
     ]
    }
   ],
   "source": [
    "s1 = input('문자열: ')\n",
    "s2=''\n",
    "for i in range(len(s1)-1, -1, -1):\n",
    "    s2 = s2 + s1[i]\n",
    "\n",
    "if s1 == s2:\n",
    "    print(\"회문\")\n",
    "else:\n",
    "    print(\"회문아님\")"
   ]
  },
  {
   "cell_type": "code",
   "execution_count": 18,
   "id": "b67aa31e-73c9-4b0d-b4d8-f30ac05150cb",
   "metadata": {},
   "outputs": [
    {
     "name": "stdout",
     "output_type": "stream",
     "text": [
      "['부산시', '금정구']\n"
     ]
    }
   ],
   "source": [
    " s='부산시 금정구'\n",
    "print(s.split(' '))"
   ]
  },
  {
   "cell_type": "code",
   "execution_count": 42,
   "id": "2e71090c-3943-47af-89a0-0e7061fed017",
   "metadata": {},
   "outputs": [
    {
     "name": "stdin",
     "output_type": "stream",
     "text": [
      "비밀번호를 입력하세요 15678997\n"
     ]
    }
   ],
   "source": [
    "while True:\n",
    "    pw=input(\"비밀번호를 입력하세요\")\n",
    "    if pw.isalnum() != True:\n",
    "        print(\"다시 입력하세요\")\n",
    "    else:\n",
    "         break\n",
    "         print(\"통과\")"
   ]
  },
  {
   "cell_type": "code",
   "execution_count": null,
   "id": "c7b5c8c8-79b8-4130-9b5b-0589b0cf7712",
   "metadata": {},
   "outputs": [],
   "source": []
  },
  {
   "cell_type": "code",
   "execution_count": null,
   "id": "6a3793e5-46f4-49a7-846f-0a82ade1532e",
   "metadata": {},
   "outputs": [],
   "source": []
  }
 ],
 "metadata": {
  "kernelspec": {
   "display_name": "Python 3 (ipykernel)",
   "language": "python",
   "name": "python3"
  },
  "language_info": {
   "codemirror_mode": {
    "name": "ipython",
    "version": 3
   },
   "file_extension": ".py",
   "mimetype": "text/x-python",
   "name": "python",
   "nbconvert_exporter": "python",
   "pygments_lexer": "ipython3",
   "version": "3.12.6"
  }
 },
 "nbformat": 4,
 "nbformat_minor": 5
}
