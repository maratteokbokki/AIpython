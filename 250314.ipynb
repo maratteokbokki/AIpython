{
  "nbformat": 4,
  "nbformat_minor": 0,
  "metadata": {
    "colab": {
      "provenance": []
    },
    "kernelspec": {
      "name": "python3",
      "display_name": "Python 3"
    },
    "language_info": {
      "name": "python"
    }
  },
  "cells": [
    {
      "cell_type": "code",
      "execution_count": 11,
      "metadata": {
        "colab": {
          "base_uri": "https://localhost:8080/"
        },
        "id": "9SQvVrDZdrDu",
        "outputId": "37727ed5-02d3-4485-ea91-5a9bcd8bf82e"
      },
      "outputs": [
        {
          "output_type": "stream",
          "name": "stdout",
          "text": [
            "반지름이 5인 원의 면적은 78.5398 입니다\n"
          ]
        }
      ],
      "source": [
        "#반지름이 5인 원의 면적을 구하시오. 원주율 값은 3.141592로 계산합니다.\n",
        "r=5\n",
        "pi=3.141592\n",
        "\n",
        "circle=pi*r**2\n",
        "\n",
        "print(f\"반지름이 {r}인 원의 면적은 {circle} 입니다\")"
      ]
    },
    {
      "cell_type": "code",
      "source": [
        "#분(정수)을 시간과 분으로 변환하여 출력하시오.\n",
        "min1=100\n",
        "\n",
        "hour=min1//60\n",
        "min2=min1%60\n",
        "\n",
        "print(min1,\"분은\", hour, \"시간\", min2, \"분 입니다\")"
      ],
      "metadata": {
        "colab": {
          "base_uri": "https://localhost:8080/"
        },
        "id": "xpWa1sZVeBr6",
        "outputId": "9ba85795-e772-45f5-a7d0-78d7fa8816e7"
      },
      "execution_count": 12,
      "outputs": [
        {
          "output_type": "stream",
          "name": "stdout",
          "text": [
            "100 분은 1 시간 40 분 입니다\n"
          ]
        }
      ]
    }
  ]
}